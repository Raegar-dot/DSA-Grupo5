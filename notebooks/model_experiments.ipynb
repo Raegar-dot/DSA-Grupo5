{
 "cells": [
  {
   "cell_type": "markdown",
   "id": "c3b398de-8c57-49b8-83fd-6db495a4d16f",
   "metadata": {},
   "source": [
    "# Proyecto de Predicción de Ventas para Productos Principales de XYZ\n",
    "# Este notebook realiza una predicción de ventas utilizando un conjunto de datos filtrado para los productos que representan el 80% de las ventas."
   ]
  },
  {
   "cell_type": "code",
   "execution_count": null,
   "id": "309114d0-5950-4342-930c-6f3b57dabd00",
   "metadata": {},
   "outputs": [],
   "source": [
    "# Importar librerías necesarias\n",
    "import pandas as pd\n",
    "from sklearn.model_selection import train_test_split\n",
    "from sklearn.preprocessing import OneHotEncoder\n",
    "from sklearn.compose import ColumnTransformer\n",
    "from sklearn.pipeline import Pipeline\n",
    "from sklearn.ensemble import RandomForestRegressor\n",
    "from sklearn.metrics import mean_squared_error, mean_absolute_error, r2_score\n",
    "import matplotlib.pyplot as plt"
   ]
  },
  {
   "cell_type": "markdown",
   "id": "b0eecc7d-531a-41fe-8034-23d2f04098a5",
   "metadata": {},
   "source": [
    "### Carga de Datos Limpios\n",
    "\n",
    "Para este análisis, cargamos un conjunto de datos previamente limpiado que contiene información de ventas de productos de los años 2022, 2023 y el primer trimestre de 2024. Estos datos ya han pasado por un proceso de depuración y filtrado, eliminando registros incompletos o irrelevantes, lo que garantiza que solo utilizamos datos consistentes y de alta calidad para el modelado.\n",
    "\n",
    "El archivo `ExporteCOL2022_2023_2024_clean.csv`, ubicado en la carpeta `silver` dentro de nuestro repositorio, representa esta versión limpia y lista para el análisis. La base de datos contiene variables clave que permitirán identificar patrones en las ventas y construir un modelo de predicción para los productos que representan el mayor volumen de ventas de la compañía, optimizando así la estrategia de negocio al enfocarnos en los productos de mayor impacto."
   ]
  },
  {
   "cell_type": "code",
   "execution_count": 3,
   "id": "885a56c5-1797-4e2d-954c-b41335804bd2",
   "metadata": {},
   "outputs": [
    {
     "data": {
      "text/html": [
       "<div>\n",
       "<style scoped>\n",
       "    .dataframe tbody tr th:only-of-type {\n",
       "        vertical-align: middle;\n",
       "    }\n",
       "\n",
       "    .dataframe tbody tr th {\n",
       "        vertical-align: top;\n",
       "    }\n",
       "\n",
       "    .dataframe thead th {\n",
       "        text-align: right;\n",
       "    }\n",
       "</style>\n",
       "<table border=\"1\" class=\"dataframe\">\n",
       "  <thead>\n",
       "    <tr style=\"text-align: right;\">\n",
       "      <th></th>\n",
       "      <th>Año</th>\n",
       "      <th>Mes</th>\n",
       "      <th>Uen</th>\n",
       "      <th>Regional</th>\n",
       "      <th>Canal Comercial</th>\n",
       "      <th>Marquilla</th>\n",
       "      <th>Código Producto</th>\n",
       "      <th>Producto</th>\n",
       "      <th>Numérica Clientes</th>\n",
       "      <th>Numérica Documentos</th>\n",
       "      <th>Ventas Galones</th>\n",
       "      <th>Ventas</th>\n",
       "      <th>Utilidad Bruta</th>\n",
       "      <th>Costos</th>\n",
       "      <th>Margen</th>\n",
       "    </tr>\n",
       "  </thead>\n",
       "  <tbody>\n",
       "    <tr>\n",
       "      <th>0</th>\n",
       "      <td>2022</td>\n",
       "      <td>1</td>\n",
       "      <td>DECORATIVO</td>\n",
       "      <td>REGIONAL BARRANQUILLA</td>\n",
       "      <td>Cadenas y Grandes Superficies</td>\n",
       "      <td>AEROCOLOR</td>\n",
       "      <td>10228936</td>\n",
       "      <td>LACA NEGRO MATE AEROCOLOR AEROSOLES 125012-801...</td>\n",
       "      <td>1</td>\n",
       "      <td>1</td>\n",
       "      <td>1.268499</td>\n",
       "      <td>129780.0</td>\n",
       "      <td>66754.53069</td>\n",
       "      <td>6.302547e+04</td>\n",
       "      <td>0.514367</td>\n",
       "    </tr>\n",
       "    <tr>\n",
       "      <th>1</th>\n",
       "      <td>2022</td>\n",
       "      <td>1</td>\n",
       "      <td>DECORATIVO</td>\n",
       "      <td>REGIONAL BARRANQUILLA</td>\n",
       "      <td>Cadenas y Grandes Superficies</td>\n",
       "      <td>AEROCOLOR</td>\n",
       "      <td>10283186</td>\n",
       "      <td>LACA BLANCO BRILLANTE AEROCOLOR AEROSOLES 300 ML</td>\n",
       "      <td>2</td>\n",
       "      <td>11</td>\n",
       "      <td>20.919176</td>\n",
       "      <td>1605228.0</td>\n",
       "      <td>431180.39710</td>\n",
       "      <td>1.174048e+06</td>\n",
       "      <td>0.268610</td>\n",
       "    </tr>\n",
       "    <tr>\n",
       "      <th>2</th>\n",
       "      <td>2022</td>\n",
       "      <td>1</td>\n",
       "      <td>DECORATIVO</td>\n",
       "      <td>REGIONAL BARRANQUILLA</td>\n",
       "      <td>Cadenas y Grandes Superficies</td>\n",
       "      <td>AEROCOLOR</td>\n",
       "      <td>10283187</td>\n",
       "      <td>LACA TRANSPARENTE BRILLANTE AEROCOLOR AEROSOLE...</td>\n",
       "      <td>1</td>\n",
       "      <td>1</td>\n",
       "      <td>0.950872</td>\n",
       "      <td>93600.0</td>\n",
       "      <td>40977.03571</td>\n",
       "      <td>5.262296e+04</td>\n",
       "      <td>0.437789</td>\n",
       "    </tr>\n",
       "    <tr>\n",
       "      <th>3</th>\n",
       "      <td>2022</td>\n",
       "      <td>1</td>\n",
       "      <td>DECORATIVO</td>\n",
       "      <td>REGIONAL BARRANQUILLA</td>\n",
       "      <td>Cadenas y Grandes Superficies</td>\n",
       "      <td>AEROCOLOR</td>\n",
       "      <td>10283188</td>\n",
       "      <td>LACA NEGRO MATE AEROCOLOR AEROSOLES 300 ML</td>\n",
       "      <td>1</td>\n",
       "      <td>13</td>\n",
       "      <td>25.673534</td>\n",
       "      <td>1897920.0</td>\n",
       "      <td>419250.64040</td>\n",
       "      <td>1.478669e+06</td>\n",
       "      <td>0.220900</td>\n",
       "    </tr>\n",
       "    <tr>\n",
       "      <th>4</th>\n",
       "      <td>2022</td>\n",
       "      <td>1</td>\n",
       "      <td>DECORATIVO</td>\n",
       "      <td>REGIONAL BARRANQUILLA</td>\n",
       "      <td>Cadenas y Grandes Superficies</td>\n",
       "      <td>AEROCOLOR</td>\n",
       "      <td>10283190</td>\n",
       "      <td>LACA ALUMINIO BRILLANTE AEROCOLOR AEROSOLES 30...</td>\n",
       "      <td>2</td>\n",
       "      <td>11</td>\n",
       "      <td>13.312203</td>\n",
       "      <td>1039068.0</td>\n",
       "      <td>239438.79160</td>\n",
       "      <td>7.996292e+05</td>\n",
       "      <td>0.230436</td>\n",
       "    </tr>\n",
       "  </tbody>\n",
       "</table>\n",
       "</div>"
      ],
      "text/plain": [
       "    Año  Mes         Uen               Regional  \\\n",
       "0  2022    1  DECORATIVO  REGIONAL BARRANQUILLA   \n",
       "1  2022    1  DECORATIVO  REGIONAL BARRANQUILLA   \n",
       "2  2022    1  DECORATIVO  REGIONAL BARRANQUILLA   \n",
       "3  2022    1  DECORATIVO  REGIONAL BARRANQUILLA   \n",
       "4  2022    1  DECORATIVO  REGIONAL BARRANQUILLA   \n",
       "\n",
       "                 Canal Comercial  Marquilla  Código Producto  \\\n",
       "0  Cadenas y Grandes Superficies  AEROCOLOR         10228936   \n",
       "1  Cadenas y Grandes Superficies  AEROCOLOR         10283186   \n",
       "2  Cadenas y Grandes Superficies  AEROCOLOR         10283187   \n",
       "3  Cadenas y Grandes Superficies  AEROCOLOR         10283188   \n",
       "4  Cadenas y Grandes Superficies  AEROCOLOR         10283190   \n",
       "\n",
       "                                            Producto  Numérica Clientes  \\\n",
       "0  LACA NEGRO MATE AEROCOLOR AEROSOLES 125012-801...                  1   \n",
       "1   LACA BLANCO BRILLANTE AEROCOLOR AEROSOLES 300 ML                  2   \n",
       "2  LACA TRANSPARENTE BRILLANTE AEROCOLOR AEROSOLE...                  1   \n",
       "3         LACA NEGRO MATE AEROCOLOR AEROSOLES 300 ML                  1   \n",
       "4  LACA ALUMINIO BRILLANTE AEROCOLOR AEROSOLES 30...                  2   \n",
       "\n",
       "   Numérica Documentos  Ventas Galones     Ventas  Utilidad Bruta  \\\n",
       "0                    1        1.268499   129780.0     66754.53069   \n",
       "1                   11       20.919176  1605228.0    431180.39710   \n",
       "2                    1        0.950872    93600.0     40977.03571   \n",
       "3                   13       25.673534  1897920.0    419250.64040   \n",
       "4                   11       13.312203  1039068.0    239438.79160   \n",
       "\n",
       "         Costos    Margen  \n",
       "0  6.302547e+04  0.514367  \n",
       "1  1.174048e+06  0.268610  \n",
       "2  5.262296e+04  0.437789  \n",
       "3  1.478669e+06  0.220900  \n",
       "4  7.996292e+05  0.230436  "
      ]
     },
     "execution_count": 3,
     "metadata": {},
     "output_type": "execute_result"
    }
   ],
   "source": [
    "import pandas as pd\n",
    "\n",
    "# Cargar datos limpios\n",
    "file_path = '../data/silver/ExporteCOL2022_2023_2024_clean.csv'\n",
    "df = pd.read_csv(file_path)\n",
    "df.head()"
   ]
  },
  {
   "cell_type": "code",
   "execution_count": 13,
   "id": "1e503bdc-5ddb-4ec4-9616-71a10f6e116c",
   "metadata": {},
   "outputs": [
    {
     "name": "stdout",
     "output_type": "stream",
     "text": [
      "(317471, 15)\n"
     ]
    }
   ],
   "source": [
    "print(df.shape)"
   ]
  },
  {
   "cell_type": "markdown",
   "id": "3ddde696-78af-48cb-a029-ce492fb90f61",
   "metadata": {
    "tags": []
   },
   "source": [
    "### Selección de Productos Principales Basado en Ventas\n",
    "\n",
    "Para optimizar nuestro análisis, primero identificamos los productos que representan el 80% de las ventas totales. Este enfoque se conoce como la regla de Pareto, en la cual una parte significativa del impacto proviene de un pequeño grupo de productos.\n",
    "\n",
    "1. **Agrupación y Suma de Ventas**:\n",
    "   Calculamos la suma de ventas para cada producto agrupándolo por el `Código Producto`. Esto nos permite conocer el total de ventas de cada SKU a lo largo del tiempo.\n",
    "\n",
    "2. **Orden de Ventas**:\n",
    "   Ordenamos los productos en orden descendente de ventas para calcular el porcentaje acumulado y determinar qué productos contribuyen al 80% de las ventas totales.\n",
    "\n",
    "3. **Filtrado de Productos**:\n",
    "   Seleccionamos los productos que se encuentran dentro del umbral del 80% acumulado de ventas y creamos un nuevo DataFrame `df_principales` que contiene solo estos productos.\n"
   ]
  },
  {
   "cell_type": "code",
   "execution_count": 7,
   "id": "d072b8cb-12a8-4119-b233-e5df8ae6333b",
   "metadata": {},
   "outputs": [
    {
     "name": "stdout",
     "output_type": "stream",
     "text": [
      "(93151, 15)\n"
     ]
    }
   ],
   "source": [
    "# Calcular las ventas totales por producto\n",
    "ventas_por_producto = df.groupby('Código Producto')['Ventas'].sum().reset_index()\n",
    "\n",
    "# Ordenar productos por ventas descendente\n",
    "ventas_por_producto = ventas_por_producto.sort_values(by='Ventas', ascending=False)\n",
    "\n",
    "# Calcular el porcentaje acumulado de ventas\n",
    "ventas_por_producto['Porcentaje Acumulado'] = ventas_por_producto['Ventas'].cumsum() / ventas_por_producto['Ventas'].sum()\n",
    "\n",
    "# Definir el umbral de contribución, por ejemplo, el 80% de las ventas\n",
    "umbral_contribucion = 0.80\n",
    "\n",
    "# Seleccionar solo los productos que representan el 80% de las ventas\n",
    "productos_principales = ventas_por_producto[ventas_por_producto['Porcentaje Acumulado'] <= umbral_contribucion]\n",
    "\n",
    "# Filtrar el DataFrame original para incluir solo los productos principales\n",
    "df_principales = df[df['Código Producto'].isin(productos_principales['Código Producto'])]\n",
    "\n",
    "# Verificar el tamaño del nuevo conjunto de datos\n",
    "print(df_principales.shape)"
   ]
  },
  {
   "cell_type": "markdown",
   "id": "376875ff-60ea-465e-a69b-52272723c521",
   "metadata": {
    "tags": []
   },
   "source": [
    "### Visualización de la Distribución Acumulada de Ventas\n",
    "\n",
    "Generamos una visualización para ilustrar el porcentaje acumulado de ventas por producto, destacando el umbral del **80%**. Esto facilita la identificación de los productos de mayor impacto.\n"
   ]
  },
  {
   "cell_type": "code",
   "execution_count": 9,
   "id": "e835d351-0c00-4cee-838c-2937696af52e",
   "metadata": {},
   "outputs": [
    {
     "data": {
      "image/png": "[encoded data removed]",
      "text/plain": [
       "<Figure size 1000x600 with 1 Axes>"
      ]
     },
     "metadata": {},
     "output_type": "display_data"
    }
   ],
   "source": [
    "import matplotlib.pyplot as plt\n",
    "\n",
    "# Visualización del porcentaje acumulado de ventas\n",
    "plt.figure(figsize=(10, 6))\n",
    "plt.plot(ventas_por_producto['Código Producto'], ventas_por_producto['Porcentaje Acumulado'], marker='o')\n",
    "plt.axhline(y=umbral_contribucion, color='r', linestyle='--', label=f'Umbral {umbral_contribucion*100}%')\n",
    "plt.title('Porcentaje Acumulado de Ventas por Producto')\n",
    "plt.xlabel('Productos Ordenados por Ventas')\n",
    "plt.ylabel('Porcentaje Acumulado de Ventas')\n",
    "plt.legend()\n",
    "plt.xticks(rotation=90)\n",
    "plt.show()\n"
   ]
  },
  {
   "cell_type": "code",
   "execution_count": 11,
   "id": "70a3825d-c678-47d9-a830-fd62befc6f0a",
   "metadata": {},
   "outputs": [
    {
     "data": {
      "text/html": [
       "<div>\n",
       "<style scoped>\n",
       "    .dataframe tbody tr th:only-of-type {\n",
       "        vertical-align: middle;\n",
       "    }\n",
       "\n",
       "    .dataframe tbody tr th {\n",
       "        vertical-align: top;\n",
       "    }\n",
       "\n",
       "    .dataframe thead th {\n",
       "        text-align: right;\n",
       "    }\n",
       "</style>\n",
       "<table border=\"1\" class=\"dataframe\">\n",
       "  <thead>\n",
       "    <tr style=\"text-align: right;\">\n",
       "      <th></th>\n",
       "      <th>Año</th>\n",
       "      <th>Mes</th>\n",
       "      <th>Uen</th>\n",
       "      <th>Regional</th>\n",
       "      <th>Canal Comercial</th>\n",
       "      <th>Marquilla</th>\n",
       "      <th>Código Producto</th>\n",
       "      <th>Producto</th>\n",
       "      <th>Numérica Clientes</th>\n",
       "      <th>Numérica Documentos</th>\n",
       "      <th>Ventas Galones</th>\n",
       "      <th>Ventas</th>\n",
       "      <th>Utilidad Bruta</th>\n",
       "      <th>Costos</th>\n",
       "      <th>Margen</th>\n",
       "    </tr>\n",
       "  </thead>\n",
       "  <tbody>\n",
       "    <tr>\n",
       "      <th>1</th>\n",
       "      <td>2022</td>\n",
       "      <td>1</td>\n",
       "      <td>DECORATIVO</td>\n",
       "      <td>REGIONAL BARRANQUILLA</td>\n",
       "      <td>Cadenas y Grandes Superficies</td>\n",
       "      <td>AEROCOLOR</td>\n",
       "      <td>10283186</td>\n",
       "      <td>LACA BLANCO BRILLANTE AEROCOLOR AEROSOLES 300 ML</td>\n",
       "      <td>2</td>\n",
       "      <td>11</td>\n",
       "      <td>20.919176</td>\n",
       "      <td>1605228.0</td>\n",
       "      <td>431180.3971</td>\n",
       "      <td>1.174048e+06</td>\n",
       "      <td>0.268610</td>\n",
       "    </tr>\n",
       "    <tr>\n",
       "      <th>3</th>\n",
       "      <td>2022</td>\n",
       "      <td>1</td>\n",
       "      <td>DECORATIVO</td>\n",
       "      <td>REGIONAL BARRANQUILLA</td>\n",
       "      <td>Cadenas y Grandes Superficies</td>\n",
       "      <td>AEROCOLOR</td>\n",
       "      <td>10283188</td>\n",
       "      <td>LACA NEGRO MATE AEROCOLOR AEROSOLES 300 ML</td>\n",
       "      <td>1</td>\n",
       "      <td>13</td>\n",
       "      <td>25.673534</td>\n",
       "      <td>1897920.0</td>\n",
       "      <td>419250.6404</td>\n",
       "      <td>1.478669e+06</td>\n",
       "      <td>0.220900</td>\n",
       "    </tr>\n",
       "    <tr>\n",
       "      <th>14</th>\n",
       "      <td>2022</td>\n",
       "      <td>1</td>\n",
       "      <td>DECORATIVO</td>\n",
       "      <td>REGIONAL BARRANQUILLA</td>\n",
       "      <td>Cadenas y Grandes Superficies</td>\n",
       "      <td>AEROCOLOR</td>\n",
       "      <td>10283224</td>\n",
       "      <td>PINTURA METALICA ORO 18 KILATES AEROCOLOR 300 ML</td>\n",
       "      <td>2</td>\n",
       "      <td>9</td>\n",
       "      <td>21.870048</td>\n",
       "      <td>2319420.0</td>\n",
       "      <td>752893.4929</td>\n",
       "      <td>1.566527e+06</td>\n",
       "      <td>0.324604</td>\n",
       "    </tr>\n",
       "    <tr>\n",
       "      <th>16</th>\n",
       "      <td>2022</td>\n",
       "      <td>1</td>\n",
       "      <td>DECORATIVO</td>\n",
       "      <td>REGIONAL BARRANQUILLA</td>\n",
       "      <td>Cadenas y Grandes Superficies</td>\n",
       "      <td>AEROCOLOR</td>\n",
       "      <td>10283229</td>\n",
       "      <td>ALTAS TEMPERATURAS NEGRO AEROCOLOR 300 ML</td>\n",
       "      <td>1</td>\n",
       "      <td>12</td>\n",
       "      <td>13.312203</td>\n",
       "      <td>1238736.0</td>\n",
       "      <td>389584.1829</td>\n",
       "      <td>8.491518e+05</td>\n",
       "      <td>0.314501</td>\n",
       "    </tr>\n",
       "    <tr>\n",
       "      <th>36</th>\n",
       "      <td>2022</td>\n",
       "      <td>1</td>\n",
       "      <td>DECORATIVO</td>\n",
       "      <td>REGIONAL BARRANQUILLA</td>\n",
       "      <td>Cadenas y Grandes Superficies</td>\n",
       "      <td>AEROCOLOR</td>\n",
       "      <td>10283298</td>\n",
       "      <td>LACA NEGRO BRILLANTE AEROCOLOR AEROSOLES 300 ML</td>\n",
       "      <td>2</td>\n",
       "      <td>14</td>\n",
       "      <td>19.017433</td>\n",
       "      <td>1484748.0</td>\n",
       "      <td>371820.9796</td>\n",
       "      <td>1.112927e+06</td>\n",
       "      <td>0.250427</td>\n",
       "    </tr>\n",
       "  </tbody>\n",
       "</table>\n",
       "</div>"
      ],
      "text/plain": [
       "     Año  Mes         Uen               Regional  \\\n",
       "1   2022    1  DECORATIVO  REGIONAL BARRANQUILLA   \n",
       "3   2022    1  DECORATIVO  REGIONAL BARRANQUILLA   \n",
       "14  2022    1  DECORATIVO  REGIONAL BARRANQUILLA   \n",
       "16  2022    1  DECORATIVO  REGIONAL BARRANQUILLA   \n",
       "36  2022    1  DECORATIVO  REGIONAL BARRANQUILLA   \n",
       "\n",
       "                  Canal Comercial  Marquilla  Código Producto  \\\n",
       "1   Cadenas y Grandes Superficies  AEROCOLOR         10283186   \n",
       "3   Cadenas y Grandes Superficies  AEROCOLOR         10283188   \n",
       "14  Cadenas y Grandes Superficies  AEROCOLOR         10283224   \n",
       "16  Cadenas y Grandes Superficies  AEROCOLOR         10283229   \n",
       "36  Cadenas y Grandes Superficies  AEROCOLOR         10283298   \n",
       "\n",
       "                                            Producto  Numérica Clientes  \\\n",
       "1   LACA BLANCO BRILLANTE AEROCOLOR AEROSOLES 300 ML                  2   \n",
       "3         LACA NEGRO MATE AEROCOLOR AEROSOLES 300 ML                  1   \n",
       "14  PINTURA METALICA ORO 18 KILATES AEROCOLOR 300 ML                  2   \n",
       "16         ALTAS TEMPERATURAS NEGRO AEROCOLOR 300 ML                  1   \n",
       "36   LACA NEGRO BRILLANTE AEROCOLOR AEROSOLES 300 ML                  2   \n",
       "\n",
       "    Numérica Documentos  Ventas Galones     Ventas  Utilidad Bruta  \\\n",
       "1                    11       20.919176  1605228.0     431180.3971   \n",
       "3                    13       25.673534  1897920.0     419250.6404   \n",
       "14                    9       21.870048  2319420.0     752893.4929   \n",
       "16                   12       13.312203  1238736.0     389584.1829   \n",
       "36                   14       19.017433  1484748.0     371820.9796   \n",
       "\n",
       "          Costos    Margen  \n",
       "1   1.174048e+06  0.268610  \n",
       "3   1.478669e+06  0.220900  \n",
       "14  1.566527e+06  0.324604  \n",
       "16  8.491518e+05  0.314501  \n",
       "36  1.112927e+06  0.250427  "
      ]
     },
     "execution_count": 11,
     "metadata": {},
     "output_type": "execute_result"
    }
   ],
   "source": [
    "df_principales.head()"
   ]
  },
  {
   "cell_type": "markdown",
   "id": "611b81fb-16b3-49d0-92d4-2a19f22af6e4",
   "metadata": {
    "tags": []
   },
   "source": [
    "### Preparación de Datos para el Modelado\n",
    "\n",
    "Para entrenar el modelo, seleccionamos variables predictoras clave (como `Año`, `Mes`, `Uen`, `Regional`, `Canal Comercial`, `Marquilla`, `Numérica Clientes`, `Numérica Documentos`) y la variable objetivo (`Ventas`). Luego dividimos el conjunto de datos en entrenamiento y prueba con una proporción 80%-20%."
   ]
  },
  {
   "cell_type": "code",
   "execution_count": 16,
   "id": "e4df0194-dd34-467b-aa26-b01a8621a7e7",
   "metadata": {},
   "outputs": [],
   "source": [
    "from sklearn.model_selection import train_test_split\n",
    "\n",
    "# Selección de las variables predictoras y la variable objetivo\n",
    "X = df_principales[['Año', 'Mes', 'Uen', 'Regional', 'Canal Comercial', 'Marquilla', 'Numérica Clientes', 'Numérica Documentos']]\n",
    "y = df_principales['Ventas']\n",
    "\n",
    "# Dividir los datos en entrenamiento y prueba (80%-20%)\n",
    "X_train, X_test, y_train, y_test = train_test_split(X, y, test_size=0.2, random_state=42)"
   ]
  },
  {
   "cell_type": "markdown",
   "id": "f6d9ed9d-4def-43c7-a650-829ac6b665dd",
   "metadata": {
    "tags": []
   },
   "source": [
    "### Preprocesamiento y Codificación de Variables Categóricas\n",
    "\n",
    "Para las variables categóricas (`Uen`, `Regional`, `Canal Comercial`, `Marquilla`), utilizamos un **ColumnTransformer** y **OneHotEncoder** para codificar estas variables en formato binario. Esto es esencial para que el modelo de regresión pueda interpretar las variables categóricas de manera efectiva."
   ]
  },
  {
   "cell_type": "code",
   "execution_count": 18,
   "id": "c700ec63-930e-49c0-a59d-4bc6f9ff8144",
   "metadata": {},
   "outputs": [],
   "source": [
    "from sklearn.preprocessing import OneHotEncoder\n",
    "from sklearn.compose import ColumnTransformer\n",
    "from sklearn.pipeline import Pipeline\n",
    "from sklearn.ensemble import RandomForestRegressor\n",
    "\n",
    "# Definir columnas categóricas\n",
    "categorical_features = ['Uen', 'Regional', 'Canal Comercial', 'Marquilla']\n",
    "\n",
    "# Configurar el preprocesador para las columnas categóricas\n",
    "preprocessor = ColumnTransformer(\n",
    "    transformers=[\n",
    "        ('cat', OneHotEncoder(handle_unknown='ignore'), categorical_features)\n",
    "    ],\n",
    "    remainder='passthrough'  # Deja las columnas numéricas sin cambiar\n",
    ")"
   ]
  },
  {
   "cell_type": "markdown",
   "id": "cde1793c-6d95-43d6-9db9-ae51ecb62a16",
   "metadata": {},
   "source": [
    "## Construcción del Modelo de Regresión con RandomForest\n",
    "\n",
    "Creamos un pipeline que incluye tanto el preprocesador como el modelo `RandomForestRegressor`. Este pipeline permite ejecutar el preprocesamiento y el entrenamiento del modelo en una sola línea de código, asegurando que las transformaciones y el modelo estén sincronizados."
   ]
  },
  {
   "cell_type": "code",
   "execution_count": 20,
   "id": "0a6937de-7c45-47a1-a4b6-449c8bc5a7b6",
   "metadata": {},
   "outputs": [
    {
     "data": {
      "text/html": [
       "<style>#sk-container-id-1 {color: black;background-color: white;}#sk-container-id-1 pre{padding: 0;}#sk-container-id-1 div.sk-toggleable {background-color: white;}#sk-container-id-1 label.sk-toggleable__label {cursor: pointer;display: block;width: 100%;margin-bottom: 0;padding: 0.3em;box-sizing: border-box;text-align: center;}#sk-container-id-1 label.sk-toggleable__label-arrow:before {content: \"▸\";float: left;margin-right: 0.25em;color: #696969;}#sk-container-id-1 label.sk-toggleable__label-arrow:hover:before {color: black;}#sk-container-id-1 div.sk-estimator:hover label.sk-toggleable__label-arrow:before {color: black;}#sk-container-id-1 div.sk-toggleable__content {max-height: 0;max-width: 0;overflow: hidden;text-align: left;background-color: #f0f8ff;}#sk-container-id-1 div.sk-toggleable__content pre {margin: 0.2em;color: black;border-radius: 0.25em;background-color: #f0f8ff;}#sk-container-id-1 input.sk-toggleable__control:checked~div.sk-toggleable__content {max-height: 200px;max-width: 100%;overflow: auto;}#sk-container-id-1 input.sk-toggleable__control:checked~label.sk-toggleable__label-arrow:before {content: \"▾\";}#sk-container-id-1 div.sk-estimator input.sk-toggleable__control:checked~label.sk-toggleable__label {background-color: #d4ebff;}#sk-container-id-1 div.sk-label input.sk-toggleable__control:checked~label.sk-toggleable__label {background-color: #d4ebff;}#sk-container-id-1 input.sk-hidden--visually {border: 0;clip: rect(1px 1px 1px 1px);clip: rect(1px, 1px, 1px, 1px);height: 1px;margin: -1px;overflow: hidden;padding: 0;position: absolute;width: 1px;}#sk-container-id-1 div.sk-estimator {font-family: monospace;background-color: #f0f8ff;border: 1px dotted black;border-radius: 0.25em;box-sizing: border-box;margin-bottom: 0.5em;}#sk-container-id-1 div.sk-estimator:hover {background-color: #d4ebff;}#sk-container-id-1 div.sk-parallel-item::after {content: \"\";width: 100%;border-bottom: 1px solid gray;flex-grow: 1;}#sk-container-id-1 div.sk-label:hover label.sk-toggleable__label {background-color: #d4ebff;}#sk-container-id-1 div.sk-serial::before {content: \"\";position: absolute;border-left: 1px solid gray;box-sizing: border-box;top: 0;bottom: 0;left: 50%;z-index: 0;}#sk-container-id-1 div.sk-serial {display: flex;flex-direction: column;align-items: center;background-color: white;padding-right: 0.2em;padding-left: 0.2em;position: relative;}#sk-container-id-1 div.sk-item {position: relative;z-index: 1;}#sk-container-id-1 div.sk-parallel {display: flex;align-items: stretch;justify-content: center;background-color: white;position: relative;}#sk-container-id-1 div.sk-item::before, #sk-container-id-1 div.sk-parallel-item::before {content: \"\";position: absolute;border-left: 1px solid gray;box-sizing: border-box;top: 0;bottom: 0;left: 50%;z-index: -1;}#sk-container-id-1 div.sk-parallel-item {display: flex;flex-direction: column;z-index: 1;position: relative;background-color: white;}#sk-container-id-1 div.sk-parallel-item:first-child::after {align-self: flex-end;width: 50%;}#sk-container-id-1 div.sk-parallel-item:last-child::after {align-self: flex-start;width: 50%;}#sk-container-id-1 div.sk-parallel-item:only-child::after {width: 0;}#sk-container-id-1 div.sk-dashed-wrapped {border: 1px dashed gray;margin: 0 0.4em 0.5em 0.4em;box-sizing: border-box;padding-bottom: 0.4em;background-color: white;}#sk-container-id-1 div.sk-label label {font-family: monospace;font-weight: bold;display: inline-block;line-height: 1.2em;}#sk-container-id-1 div.sk-label-container {text-align: center;}#sk-container-id-1 div.sk-container {/* jupyter's `normalize.less` sets `[hidden] { display: none; }` but bootstrap.min.css set `[hidden] { display: none !important; }` so we also need the `!important` here to be able to override the default hidden behavior on the sphinx rendered scikit-learn.org. See: https://github.com/scikit-learn/scikit-learn/issues/21755 */display: inline-block !important;position: relative;}#sk-container-id-1 div.sk-text-repr-fallback {display: none;}</style><div id=\"sk-container-id-1\" class=\"sk-top-container\"><div class=\"sk-text-repr-fallback\"><pre>Pipeline(steps=[(&#x27;preprocessor&#x27;,\n",
       "                 ColumnTransformer(remainder=&#x27;passthrough&#x27;,\n",
       "                                   transformers=[(&#x27;cat&#x27;,\n",
       "                                                  OneHotEncoder(handle_unknown=&#x27;ignore&#x27;),\n",
       "                                                  [&#x27;Uen&#x27;, &#x27;Regional&#x27;,\n",
       "                                                   &#x27;Canal Comercial&#x27;,\n",
       "                                                   &#x27;Marquilla&#x27;])])),\n",
       "                (&#x27;regressor&#x27;, RandomForestRegressor(random_state=42))])</pre><b>In a Jupyter environment, please rerun this cell to show the HTML representation or trust the notebook. <br />On GitHub, the HTML representation is unable to render, please try loading this page with nbviewer.org.</b></div><div class=\"sk-container\" hidden><div class=\"sk-item sk-dashed-wrapped\"><div class=\"sk-label-container\"><div class=\"sk-label sk-toggleable\"><input class=\"sk-toggleable__control sk-hidden--visually\" id=\"sk-estimator-id-1\" type=\"checkbox\" ><label for=\"sk-estimator-id-1\" class=\"sk-toggleable__label sk-toggleable__label-arrow\">Pipeline</label><div class=\"sk-toggleable__content\"><pre>Pipeline(steps=[(&#x27;preprocessor&#x27;,\n",
       "                 ColumnTransformer(remainder=&#x27;passthrough&#x27;,\n",
       "                                   transformers=[(&#x27;cat&#x27;,\n",
       "                                                  OneHotEncoder(handle_unknown=&#x27;ignore&#x27;),\n",
       "                                                  [&#x27;Uen&#x27;, &#x27;Regional&#x27;,\n",
       "                                                   &#x27;Canal Comercial&#x27;,\n",
       "                                                   &#x27;Marquilla&#x27;])])),\n",
       "                (&#x27;regressor&#x27;, RandomForestRegressor(random_state=42))])</pre></div></div></div><div class=\"sk-serial\"><div class=\"sk-item sk-dashed-wrapped\"><div class=\"sk-label-container\"><div class=\"sk-label sk-toggleable\"><input class=\"sk-toggleable__control sk-hidden--visually\" id=\"sk-estimator-id-2\" type=\"checkbox\" ><label for=\"sk-estimator-id-2\" class=\"sk-toggleable__label sk-toggleable__label-arrow\">preprocessor: ColumnTransformer</label><div class=\"sk-toggleable__content\"><pre>ColumnTransformer(remainder=&#x27;passthrough&#x27;,\n",
       "                  transformers=[(&#x27;cat&#x27;, OneHotEncoder(handle_unknown=&#x27;ignore&#x27;),\n",
       "                                 [&#x27;Uen&#x27;, &#x27;Regional&#x27;, &#x27;Canal Comercial&#x27;,\n",
       "                                  &#x27;Marquilla&#x27;])])</pre></div></div></div><div class=\"sk-parallel\"><div class=\"sk-parallel-item\"><div class=\"sk-item\"><div class=\"sk-label-container\"><div class=\"sk-label sk-toggleable\"><input class=\"sk-toggleable__control sk-hidden--visually\" id=\"sk-estimator-id-3\" type=\"checkbox\" ><label for=\"sk-estimator-id-3\" class=\"sk-toggleable__label sk-toggleable__label-arrow\">cat</label><div class=\"sk-toggleable__content\"><pre>[&#x27;Uen&#x27;, &#x27;Regional&#x27;, &#x27;Canal Comercial&#x27;, &#x27;Marquilla&#x27;]</pre></div></div></div><div class=\"sk-serial\"><div class=\"sk-item\"><div class=\"sk-estimator sk-toggleable\"><input class=\"sk-toggleable__control sk-hidden--visually\" id=\"sk-estimator-id-4\" type=\"checkbox\" ><label for=\"sk-estimator-id-4\" class=\"sk-toggleable__label sk-toggleable__label-arrow\">OneHotEncoder</label><div class=\"sk-toggleable__content\"><pre>OneHotEncoder(handle_unknown=&#x27;ignore&#x27;)</pre></div></div></div></div></div></div><div class=\"sk-parallel-item\"><div class=\"sk-item\"><div class=\"sk-label-container\"><div class=\"sk-label sk-toggleable\"><input class=\"sk-toggleable__control sk-hidden--visually\" id=\"sk-estimator-id-5\" type=\"checkbox\" ><label for=\"sk-estimator-id-5\" class=\"sk-toggleable__label sk-toggleable__label-arrow\">remainder</label><div class=\"sk-toggleable__content\"><pre>[&#x27;Año&#x27;, &#x27;Mes&#x27;, &#x27;Numérica Clientes&#x27;, &#x27;Numérica Documentos&#x27;]</pre></div></div></div><div class=\"sk-serial\"><div class=\"sk-item\"><div class=\"sk-estimator sk-toggleable\"><input class=\"sk-toggleable__control sk-hidden--visually\" id=\"sk-estimator-id-6\" type=\"checkbox\" ><label for=\"sk-estimator-id-6\" class=\"sk-toggleable__label sk-toggleable__label-arrow\">passthrough</label><div class=\"sk-toggleable__content\"><pre>passthrough</pre></div></div></div></div></div></div></div></div><div class=\"sk-item\"><div class=\"sk-estimator sk-toggleable\"><input class=\"sk-toggleable__control sk-hidden--visually\" id=\"sk-estimator-id-7\" type=\"checkbox\" ><label for=\"sk-estimator-id-7\" class=\"sk-toggleable__label sk-toggleable__label-arrow\">RandomForestRegressor</label><div class=\"sk-toggleable__content\"><pre>RandomForestRegressor(random_state=42)</pre></div></div></div></div></div></div></div>"
      ],
      "text/plain": [
       "Pipeline(steps=[('preprocessor',\n",
       "                 ColumnTransformer(remainder='passthrough',\n",
       "                                   transformers=[('cat',\n",
       "                                                  OneHotEncoder(handle_unknown='ignore'),\n",
       "                                                  ['Uen', 'Regional',\n",
       "                                                   'Canal Comercial',\n",
       "                                                   'Marquilla'])])),\n",
       "                ('regressor', RandomForestRegressor(random_state=42))])"
      ]
     },
     "execution_count": 20,
     "metadata": {},
     "output_type": "execute_result"
    }
   ],
   "source": [
    "# Crear el pipeline con el preprocesador y el modelo\n",
    "model = Pipeline(steps=[\n",
    "    ('preprocessor', preprocessor),\n",
    "    ('regressor', RandomForestRegressor(random_state=42))\n",
    "])\n",
    "\n",
    "# Entrenar el modelo\n",
    "model.fit(X_train, y_train)\n"
   ]
  },
  {
   "cell_type": "markdown",
   "id": "fa98473c-f33c-42e4-88c0-b6c0d6915eeb",
   "metadata": {},
   "source": [
    "## Evaluación del Modelo\n",
    "\n",
    "Finalmente, evaluamos el rendimiento del modelo en el conjunto de prueba utilizando métricas como el error cuadrático medio (`MSE`), el error absoluto medio (`MAE`), y el coeficiente de determinación (`R²`). Estas métricas nos ayudan a entender la precisión del modelo y su capacidad para generalizar en nuevos datos."
   ]
  },
  {
   "cell_type": "code",
   "execution_count": 22,
   "id": "5eb2589b-e0a2-4147-97b7-eeb5f9623b0d",
   "metadata": {},
   "outputs": [
    {
     "name": "stdout",
     "output_type": "stream",
     "text": [
      "MSE: 291686836405496.9\n",
      "MAE: 6036291.549243458\n",
      "R2 Score: 0.6753340404843475\n"
     ]
    }
   ],
   "source": [
    "from sklearn.metrics import mean_squared_error, mean_absolute_error, r2_score\n",
    "\n",
    "# Hacer predicciones en el conjunto de prueba\n",
    "y_pred = model.predict(X_test)\n",
    "\n",
    "# Calcular métricas de rendimiento\n",
    "mse = mean_squared_error(y_test, y_pred)\n",
    "mae = mean_absolute_error(y_test, y_pred)\n",
    "r2 = r2_score(y_test, y_pred)\n",
    "\n",
    "print(f\"MSE: {mse}\")\n",
    "print(f\"MAE: {mae}\")\n",
    "print(f\"R2 Score: {r2}\")\n"
   ]
  }
 ],
 "metadata": {
  "kernelspec": {
   "display_name": "Python 3 (ipykernel)",
   "language": "python",
   "name": "python3"
  },
  "language_info": {
   "codemirror_mode": {
    "name": "ipython",
    "version": 3
   },
   "file_extension": ".py",
   "mimetype": "text/x-python",
   "name": "python",
   "nbconvert_exporter": "python",
   "pygments_lexer": "ipython3",
   "version": "3.10.9"
  }
 },
 "nbformat": 4,
 "nbformat_minor": 5
}
